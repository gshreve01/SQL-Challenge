{
 "cells": [
  {
   "cell_type": "markdown",
   "metadata": {},
   "source": [
    "## Module Imports"
   ]
  },
  {
   "cell_type": "code",
   "execution_count": 1,
   "metadata": {},
   "outputs": [],
   "source": [
    "import psycopg2 as db\n",
    "import pandas as pd\n",
    "import pandas.io.sql as sqlio\n",
    "import matplotlib.pyplot as plt\n",
    "from config import host,database,user,password"
   ]
  },
  {
   "cell_type": "markdown",
   "metadata": {},
   "source": [
    "## Import SQL database into pandas"
   ]
  },
  {
   "cell_type": "code",
   "execution_count": 2,
   "metadata": {},
   "outputs": [],
   "source": [
    "conn = db.connect(host=host,database=database, user=user, password=password)\n",
    "sql = \"select * from vEmployeeData\"\n",
    "data = sqlio.read_sql_query(sql, conn)\n",
    "conn = None"
   ]
  },
  {
   "cell_type": "code",
   "execution_count": 3,
   "metadata": {},
   "outputs": [
    {
     "data": {
      "text/html": [
       "<div>\n",
       "<style scoped>\n",
       "    .dataframe tbody tr th:only-of-type {\n",
       "        vertical-align: middle;\n",
       "    }\n",
       "\n",
       "    .dataframe tbody tr th {\n",
       "        vertical-align: top;\n",
       "    }\n",
       "\n",
       "    .dataframe thead th {\n",
       "        text-align: right;\n",
       "    }\n",
       "</style>\n",
       "<table border=\"1\" class=\"dataframe\">\n",
       "  <thead>\n",
       "    <tr style=\"text-align: right;\">\n",
       "      <th></th>\n",
       "      <th>emp_no</th>\n",
       "      <th>emp_title_id</th>\n",
       "      <th>birth_date</th>\n",
       "      <th>first_name</th>\n",
       "      <th>last_name</th>\n",
       "      <th>sex</th>\n",
       "      <th>hire_date</th>\n",
       "      <th>title</th>\n",
       "      <th>salary</th>\n",
       "    </tr>\n",
       "  </thead>\n",
       "  <tbody>\n",
       "    <tr>\n",
       "      <th>0</th>\n",
       "      <td>13616</td>\n",
       "      <td>e0003</td>\n",
       "      <td>2061-08-30</td>\n",
       "      <td>Perry</td>\n",
       "      <td>Lorho</td>\n",
       "      <td>F</td>\n",
       "      <td>1991-08-03</td>\n",
       "      <td>Senior Engineer</td>\n",
       "      <td>40000.0</td>\n",
       "    </tr>\n",
       "    <tr>\n",
       "      <th>1</th>\n",
       "      <td>240129</td>\n",
       "      <td>e0004</td>\n",
       "      <td>2052-08-11</td>\n",
       "      <td>Roddy</td>\n",
       "      <td>Karnin</td>\n",
       "      <td>M</td>\n",
       "      <td>1985-05-29</td>\n",
       "      <td>Technique Leader</td>\n",
       "      <td>43548.0</td>\n",
       "    </tr>\n",
       "    <tr>\n",
       "      <th>2</th>\n",
       "      <td>43471</td>\n",
       "      <td>e0002</td>\n",
       "      <td>2064-01-10</td>\n",
       "      <td>Mechthild</td>\n",
       "      <td>Gihr</td>\n",
       "      <td>F</td>\n",
       "      <td>1995-05-10</td>\n",
       "      <td>Engineer</td>\n",
       "      <td>40023.0</td>\n",
       "    </tr>\n",
       "    <tr>\n",
       "      <th>3</th>\n",
       "      <td>444985</td>\n",
       "      <td>s0001</td>\n",
       "      <td>2056-01-20</td>\n",
       "      <td>Giap</td>\n",
       "      <td>Verspoor</td>\n",
       "      <td>F</td>\n",
       "      <td>1990-03-17</td>\n",
       "      <td>Staff</td>\n",
       "      <td>71042.0</td>\n",
       "    </tr>\n",
       "    <tr>\n",
       "      <th>4</th>\n",
       "      <td>492723</td>\n",
       "      <td>e0003</td>\n",
       "      <td>2059-09-30</td>\n",
       "      <td>Piyawadee</td>\n",
       "      <td>Sanella</td>\n",
       "      <td>M</td>\n",
       "      <td>1987-07-11</td>\n",
       "      <td>Senior Engineer</td>\n",
       "      <td>46740.0</td>\n",
       "    </tr>\n",
       "    <tr>\n",
       "      <th>...</th>\n",
       "      <td>...</td>\n",
       "      <td>...</td>\n",
       "      <td>...</td>\n",
       "      <td>...</td>\n",
       "      <td>...</td>\n",
       "      <td>...</td>\n",
       "      <td>...</td>\n",
       "      <td>...</td>\n",
       "      <td>...</td>\n",
       "    </tr>\n",
       "    <tr>\n",
       "      <th>300019</th>\n",
       "      <td>224534</td>\n",
       "      <td>e0003</td>\n",
       "      <td>2064-02-28</td>\n",
       "      <td>Adib</td>\n",
       "      <td>Porenta</td>\n",
       "      <td>F</td>\n",
       "      <td>1987-06-03</td>\n",
       "      <td>Senior Engineer</td>\n",
       "      <td>46695.0</td>\n",
       "    </tr>\n",
       "    <tr>\n",
       "      <th>300020</th>\n",
       "      <td>49941</td>\n",
       "      <td>e0003</td>\n",
       "      <td>2060-10-31</td>\n",
       "      <td>Navid</td>\n",
       "      <td>Kuzuoka</td>\n",
       "      <td>M</td>\n",
       "      <td>1986-04-27</td>\n",
       "      <td>Senior Engineer</td>\n",
       "      <td>41371.0</td>\n",
       "    </tr>\n",
       "    <tr>\n",
       "      <th>300021</th>\n",
       "      <td>433619</td>\n",
       "      <td>e0003</td>\n",
       "      <td>2059-02-26</td>\n",
       "      <td>Youssef</td>\n",
       "      <td>Valiente</td>\n",
       "      <td>F</td>\n",
       "      <td>1987-06-02</td>\n",
       "      <td>Senior Engineer</td>\n",
       "      <td>40000.0</td>\n",
       "    </tr>\n",
       "    <tr>\n",
       "      <th>300022</th>\n",
       "      <td>222402</td>\n",
       "      <td>s0001</td>\n",
       "      <td>2055-03-03</td>\n",
       "      <td>Jaana</td>\n",
       "      <td>Klyachko</td>\n",
       "      <td>F</td>\n",
       "      <td>1991-01-11</td>\n",
       "      <td>Staff</td>\n",
       "      <td>40000.0</td>\n",
       "    </tr>\n",
       "    <tr>\n",
       "      <th>300023</th>\n",
       "      <td>81057</td>\n",
       "      <td>e0003</td>\n",
       "      <td>2057-11-03</td>\n",
       "      <td>Patricio</td>\n",
       "      <td>Pocchiola</td>\n",
       "      <td>M</td>\n",
       "      <td>1985-02-16</td>\n",
       "      <td>Senior Engineer</td>\n",
       "      <td>40000.0</td>\n",
       "    </tr>\n",
       "  </tbody>\n",
       "</table>\n",
       "<p>300024 rows × 9 columns</p>\n",
       "</div>"
      ],
      "text/plain": [
       "        emp_no emp_title_id  birth_date first_name  last_name sex   hire_date  \\\n",
       "0        13616        e0003  2061-08-30      Perry      Lorho   F  1991-08-03   \n",
       "1       240129        e0004  2052-08-11      Roddy     Karnin   M  1985-05-29   \n",
       "2        43471        e0002  2064-01-10  Mechthild       Gihr   F  1995-05-10   \n",
       "3       444985        s0001  2056-01-20       Giap   Verspoor   F  1990-03-17   \n",
       "4       492723        e0003  2059-09-30  Piyawadee    Sanella   M  1987-07-11   \n",
       "...        ...          ...         ...        ...        ...  ..         ...   \n",
       "300019  224534        e0003  2064-02-28       Adib    Porenta   F  1987-06-03   \n",
       "300020   49941        e0003  2060-10-31      Navid    Kuzuoka   M  1986-04-27   \n",
       "300021  433619        e0003  2059-02-26    Youssef   Valiente   F  1987-06-02   \n",
       "300022  222402        s0001  2055-03-03      Jaana   Klyachko   F  1991-01-11   \n",
       "300023   81057        e0003  2057-11-03   Patricio  Pocchiola   M  1985-02-16   \n",
       "\n",
       "                   title   salary  \n",
       "0        Senior Engineer  40000.0  \n",
       "1       Technique Leader  43548.0  \n",
       "2               Engineer  40023.0  \n",
       "3                  Staff  71042.0  \n",
       "4        Senior Engineer  46740.0  \n",
       "...                  ...      ...  \n",
       "300019   Senior Engineer  46695.0  \n",
       "300020   Senior Engineer  41371.0  \n",
       "300021   Senior Engineer  40000.0  \n",
       "300022             Staff  40000.0  \n",
       "300023   Senior Engineer  40000.0  \n",
       "\n",
       "[300024 rows x 9 columns]"
      ]
     },
     "execution_count": 3,
     "metadata": {},
     "output_type": "execute_result"
    }
   ],
   "source": [
    "# this may take a while\n",
    "data"
   ]
  },
  {
   "cell_type": "markdown",
   "metadata": {},
   "source": [
    "## Create a histogram to visualize the most common salary ranges for employees"
   ]
  },
  {
   "cell_type": "code",
   "execution_count": 4,
   "metadata": {},
   "outputs": [
    {
     "data": {
      "text/plain": [
       "Text(0.5, 0, 'Salary Range')"
      ]
     },
     "execution_count": 4,
     "metadata": {},
     "output_type": "execute_result"
    },
    {
     "data": {
      "image/png": "[encoded data removed]",
      "text/plain": [
       "<Figure size 864x576 with 1 Axes>"
      ]
     },
     "metadata": {
      "needs_background": "light"
     },
     "output_type": "display_data"
    }
   ],
   "source": [
    "salary = data[\"salary\"]\n",
    "\n",
    "salary_list = 40000, 45000, 50000, 55000, 60000, 65000, 70000, 75000, 80000, 85000, 90000, 95000, 100000, 105000, 110000, 115000\n",
    "\n",
    "ax = salary.plot.hist(bins=salary_list, alpha=0.5, figsize=(12, 8),rot=90)\n",
    "plt.xticks(salary_list)\n",
    "ax.set_title(\"Frequency of Salaries\")\n",
    "ax.set_xlabel(\"Salary Range\")"
   ]
  },
  {
   "cell_type": "markdown",
   "metadata": {},
   "source": [
    " ## Create a bar chart of average salary by title"
   ]
  },
  {
   "cell_type": "code",
   "execution_count": 5,
   "metadata": {},
   "outputs": [
    {
     "data": {
      "text/plain": [
       "Text(0, 0.5, 'Salary Range')"
      ]
     },
     "execution_count": 5,
     "metadata": {},
     "output_type": "execute_result"
    },
    {
     "data": {
      "image/png": "[encoded data removed]",
      "text/plain": [
       "<Figure size 432x288 with 1 Axes>"
      ]
     },
     "metadata": {
      "needs_background": "light"
     },
     "output_type": "display_data"
    }
   ],
   "source": [
    "averageSalaryByTitle = data.groupby(\"title\").mean()[\"salary\"].reset_index()\n",
    "ax = averageSalaryByTitle.plot.bar(x=\"title\", y=\"salary\", rot=90, legend=False)\n",
    "ax.set_xlabel(\"Employee Title\")\n",
    "ax.set_ylabel(\"Salary Range\")"
   ]
  },
  {
   "cell_type": "code",
   "execution_count": null,
   "metadata": {},
   "outputs": [],
   "source": []
  }
 ],
 "metadata": {
  "kernelspec": {
   "display_name": "Python 3",
   "language": "python",
   "name": "python3"
  },
  "language_info": {
   "codemirror_mode": {
    "name": "ipython",
    "version": 3
   },
   "file_extension": ".py",
   "mimetype": "text/x-python",
   "name": "python",
   "nbconvert_exporter": "python",
   "pygments_lexer": "ipython3",
   "version": "3.7.4"
  }
 },
 "nbformat": 4,
 "nbformat_minor": 4
}
